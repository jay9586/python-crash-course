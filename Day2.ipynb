{
  "nbformat": 4,
  "nbformat_minor": 0,
  "metadata": {
    "colab": {
      "provenance": []
    },
    "kernelspec": {
      "name": "python3",
      "display_name": "Python 3"
    },
    "language_info": {
      "name": "python"
    }
  },
  "cells": [
    {
      "cell_type": "code",
      "execution_count": null,
      "metadata": {
        "id": "v6dDmKZm88Yj"
      },
      "outputs": [],
      "source": [
        "'''\n",
        "List\n",
        "  - Ordered(Sequential) \n",
        "    e.g. 11, 34, 56, 3, 0\n",
        "  - index (Starts with 0)\n",
        "  - By Default, item gets added at the end of List\n",
        "\n",
        "Dictionary\n",
        "  - Unordered \n",
        "  - Key-Value Pair\n",
        "    e.g. Contact Diary with Tags\n",
        "\n",
        "Set\n",
        "  - Unordered\n",
        "  - Duplication not allowed\n",
        "  - Lookup is faster\n",
        "    e.g. Usernames in SocialMedia, EmailIDs\n",
        "'''"
      ]
    },
    {
      "cell_type": "code",
      "source": [
        "'''\n",
        "# SESSION Problem:\n",
        "  1. Create your lunch_bowl\n",
        "  2. Create an order variable that holds the information such as price, name, order_date, lunch_bowl\n",
        "  3. what is the 3rd item in your order (aka lunch bowl)?\n",
        "'''\n",
        "\n",
        "lunch_bowl = [{\"item_name\": \"R\"}, {\"item_name\": \"B\"}, {\"item_name\": \"C\"}]\n",
        "order = {\n",
        "    \"lunch_bowl\": lunch_bowl,\n",
        "    \"price\": 9.80\n",
        "}\n",
        "\n",
        "order[\"lunch_bowl\"][2][\"item_name\"]"
      ],
      "metadata": {
        "colab": {
          "base_uri": "https://localhost:8080/"
        },
        "id": "1UchizZ4AFU7",
        "outputId": "1296e41f-4fbd-459d-9265-d64ecda78ff0"
      },
      "execution_count": null,
      "outputs": [
        {
          "output_type": "execute_result",
          "data": {
            "text/plain": [
              "[{'item_name': 'R'}, {'item_name': 'B'}, {'item_name': 'C'}]"
            ]
          },
          "metadata": {},
          "execution_count": 5
        }
      ]
    },
    {
      "cell_type": "code",
      "source": [
        "####################\n",
        "######## List\n",
        "####################\n",
        "\n",
        "lunch_bowl_empty = []\n",
        "lunch_bowl = [\"Rice\", \"Beans\", \"Cheese\"]\n",
        "\n",
        "# Access the item\n",
        "print(lunch_bowl[2])\n",
        "\n",
        "# Add the Item\n",
        "lunch_bowl.append(\"Gauc\")\n",
        "\n",
        "\n",
        "####################\n",
        "######## Dictionary\n",
        "####################\n",
        "order_empty = {}\n",
        "order = {\n",
        "    \"lunch_bowl\": [\"Rice\", \"Beans\", \"Cheese\"],\n",
        "    \"price\": 9.80,\n",
        "    \"name\": \"Alex\"\n",
        "}\n",
        "\n",
        "# Access the item\n",
        "order[\"name\"]\n",
        "\n",
        "# Add item\n",
        "order[\"paid_status\"] = \"online\"\n",
        "\n",
        "\n",
        "####################\n",
        "######## Set\n",
        "####################\n",
        "magical_bag_empty = set()\n",
        "magical_bag = set([\"jp123\", \"ab123\", \"cd4546\"])\n",
        "\n",
        "# Add item\n",
        "magical_bag.add(\"ef123\")\n",
        "magical_bag.add(\"ef123\")\n",
        "\n",
        "# Check for an item\n",
        "\"EF123\" in magical_bag"
      ],
      "metadata": {
        "colab": {
          "base_uri": "https://localhost:8080/"
        },
        "id": "ZkUReoKO-mfK",
        "outputId": "eb08025d-1509-402f-b28a-e581087664ea"
      },
      "execution_count": null,
      "outputs": [
        {
          "output_type": "stream",
          "name": "stdout",
          "text": [
            "Cheese\n"
          ]
        }
      ]
    },
    {
      "cell_type": "markdown",
      "source": [
        "# Exercises"
      ],
      "metadata": {
        "id": "2L_cmWYr-DhM"
      }
    },
    {
      "cell_type": "code",
      "source": [
        "##############\n",
        "#### LIST ####\n",
        "##############\n",
        "\n",
        "fav_places = [\"Paris\", \"Hawaii\", \"Alaska\", \"Amsterdam\"]\n",
        "\n",
        "# What is the type of `fav_places` variable? Write down the functions to print the type.\n",
        "<ANSWER_HERE>\n",
        "\n",
        "# How many places are there in the `fav_places`? Print it.\n",
        "<ANSWER_HERE>\n",
        "\n",
        "# What is the type of all items in the `fav_places`? Print it.\n",
        "<ANSWER_HERE>\n",
        "\n",
        "# What is the least favorite place in `fav_places`? Assuming the last place is least favorite. Print it. \n",
        "<ANSWER_HERE>\n",
        "\n",
        "# Add a TWO new favorite place of yours in the list.\n",
        "<ANSWER_HERE>\n",
        "\n",
        "# Once you add TWO favorite places then there should be six favorite places in the list. Remove any ONE from the list and make it to FIVE.\n",
        "<ANSWER_HERE>\n",
        "\n",
        "# Write a code to randomly choose one item from a list. \"GOOGLE IT!\"\n",
        "<ANSWER_HERE>\n",
        "\n",
        "# Shuffle the List of favorite places and Print the 3rd Favorite place.\n",
        "<ANSWER_HERE>"
      ],
      "metadata": {
        "id": "ZyMHdvQM-GHp"
      },
      "execution_count": null,
      "outputs": []
    },
    {
      "cell_type": "code",
      "source": [
        "####################\n",
        "#### DICTIONARY ####\n",
        "####################\n",
        "\n",
        "food_order = {\n",
        "    \"name\": \"Rv\",\n",
        "    \"order_date_time\": \"Jan 11, 2019 08:51 AM CST\",\n",
        "    \"lunch_bowl\": [\"White Rice\", \"Black Beans\", \"Mushrooms\", \"Green Peppers\", \"Cheese\", \"Corns\", \"Fresh Jalapeño\", \"Black Olives\", \"Cilantro\"],\n",
        "    \"price\": 6.75\n",
        "}\n",
        "\n",
        "# What is the price of an order placed on Jan 11th? Print it\n",
        "<ANSWER_HERE>\n",
        "\n",
        "# How many ingredients are there in the `lunch_bowl`? Print it! e.g. 5\n",
        "<ANSWER_HERE>\n",
        "\n",
        "# What was the time the order was placed? e.g. 8:30 PM CST\n",
        "<ANSWER_HERE>\n",
        "\n",
        "# Add one more item{key should be named as `order_status` and value should be `paid`}. Then Print the `food_order`.\n",
        "<ANSWER_HERE>\n",
        "\n",
        "# User is asking for double cheese in here. It will add $1.25 for that, add this additional cost on the base price alreaddy listed.\n",
        "<ANSWER_HERE>\n",
        "\n",
        "# Print your dictionary.\n",
        "<ANSWER_HERE>"
      ],
      "metadata": {
        "id": "R1Sl6LHw-NM7"
      },
      "execution_count": null,
      "outputs": []
    },
    {
      "cell_type": "code",
      "source": [
        "#####################\n",
        "#### MIX n MATCH ####\n",
        "#####################\n",
        "\n",
        "# Create THREE dictionaries with information of three favorite places.\n",
        "'''\n",
        "e.g.\n",
        "X = {\n",
        "  \"name\": \"Hawaii\",\n",
        "  \"lat_lng\": \"23.45, 122.45\",\n",
        "  .....\n",
        "}\n",
        "'''\n",
        "\n",
        "# Create a single list that has information about all of your favorite places.\n",
        "'''\n",
        "e.g. \n",
        "  all_fav_places = [\n",
        "    {......},\n",
        "    {......},\n",
        "    {......}\n",
        "  ]\n",
        "'''\n",
        "\n",
        "# Look a following data & See How many people submitted Ratings for \"NYC Best Food\" restaurant? Print it! e.g. 10\n",
        "r_data = {\n",
        "  \"name\": \"NYC Best food\",\n",
        "  \"food\": [\"Burritto\", \"Pizza\", \"Cake\"],\n",
        "  \"address\": \"123 S st.\",\n",
        "  \"rating\": [3.4, 4, 5, 1, 2],\n",
        "  \"reviews\": {\n",
        "      \"jay_patel\": \"Something about restaurant\",\n",
        "      \"anno\": \"terrible\"\n",
        "  }\n",
        "}"
      ],
      "metadata": {
        "id": "JBovD4PV-RW7"
      },
      "execution_count": null,
      "outputs": []
    }
  ]
}