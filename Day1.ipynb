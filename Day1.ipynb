{
  "nbformat": 4,
  "nbformat_minor": 0,
  "metadata": {
    "colab": {
      "provenance": []
    },
    "kernelspec": {
      "name": "python3",
      "display_name": "Python 3"
    },
    "language_info": {
      "name": "python"
    }
  },
  "cells": [
    {
      "cell_type": "markdown",
      "source": [
        "# CHAPTER_1: Understanding the language of snake 🐍\n",
        "\n",
        "In this chapter, let's get familiar with simple python jargon.\n",
        "\n",
        "* Variables\n",
        "* Types & Type casting\n",
        "  * Primitive & Non-primitive types\n",
        "* Keep in mind None Type, what is it?\n",
        "* TypeError, NameError, NoneTypeError, SyntaxError"
      ],
      "metadata": {
        "id": "YPrZDs70klDP"
      }
    },
    {
      "cell_type": "code",
      "execution_count": 3,
      "metadata": {
        "colab": {
          "base_uri": "https://localhost:8080/"
        },
        "id": "Ps9nx95KHZol",
        "outputId": "367fb066-303c-419d-8440-ab6c5d695524"
      },
      "outputs": [
        {
          "output_type": "stream",
          "name": "stdout",
          "text": [
            "<class 'str'>\n",
            "32\n"
          ]
        }
      ],
      "source": [
        "'''\n",
        "Notes:\n",
        "  0. Python is case-sensitive\n",
        "  1. Variable names have rules\n",
        "  2. Python cares about Types (String, Integer, Float)\n",
        "  3. SyntaxError\n",
        "  4. Do not create variable names which are reserved keywords\n",
        "'''\n",
        "\n",
        "# Creating Variables-names with Types (String, Integer, Float)\n",
        "\n",
        "_ = \"Alan Turing\" # This is \"string-typed\" variable\n",
        "name = \"Alan Turing\"\n",
        "country = \"UK\"\n",
        "fav_number = 32 # This is \"integer-typed\" variable\n",
        "order_price = 9.87\n",
        "\n",
        "# Functions\n",
        "print(type(name))\n",
        "print(fav_number)"
      ]
    },
    {
      "cell_type": "code",
      "source": [
        "'''\n",
        "Notes:\n",
        "  1. Care about types\n",
        "  2. \"+\" operator can be used as concatenation for string types values\n",
        "  2.1 \"+\" for numbers is arithmatic operation\n",
        "  3. Type castin: convert one type into another\n",
        "  4. TypeError\n",
        "  5. NameError\n",
        "'''\n",
        "information = name + country\n",
        "print(information) # Alan Turing32\n",
        "\n",
        "casted_fav_number = str(fav_number)\n",
        "information_1 = name + casted_fav_number\n",
        "print(information_1) # Alan Turing32\n",
        "\n",
        "x = \"10\"\n",
        "y = \"12\"\n",
        "z = x + y\n",
        "print(z) # => \"1012\""
      ],
      "metadata": {
        "colab": {
          "base_uri": "https://localhost:8080/"
        },
        "id": "ZOYxcdMGZlPI",
        "outputId": "cdb1b4cc-5639-478d-b75f-ed124597bf79"
      },
      "execution_count": 2,
      "outputs": [
        {
          "output_type": "stream",
          "name": "stdout",
          "text": [
            "Alan TuringUK\n",
            "Alan Turing32\n",
            "1012\n"
          ]
        }
      ]
    },
    {
      "cell_type": "markdown",
      "source": [
        "## Short-summary"
      ],
      "metadata": {
        "id": "eUsQMMXml5vE"
      }
    },
    {
      "cell_type": "code",
      "source": [
        "'''\n",
        "Summary:\n",
        "  \n",
        "  Python is not Typed programming language which means you do not need to write type explicitly when you create variables/objects.\n",
        "    1. Use `print()` for printing whatever to console.\n",
        "    2. Use `+` operator for string concatenation for string-typed values.\n",
        "      2.1 Use `+` operator for arithmetic operation for integer-typed values.\n",
        "    3. Use `type()` for checking variable type (aka Type of the value particular variable holds).\n",
        "    4. Type Casting - It is a way to convert one type of value to other.\n",
        "\n",
        "# Google Python Styleguide: http://google.github.io/styleguide/pyguide.html\n",
        "'''"
      ],
      "metadata": {
        "id": "gNY_YA-elQpl"
      },
      "execution_count": null,
      "outputs": []
    },
    {
      "cell_type": "markdown",
      "source": [
        "## Long-summary"
      ],
      "metadata": {
        "id": "W9FO2-k_l9IA"
      }
    },
    {
      "cell_type": "code",
      "source": [
        "'''\n",
        "Type is Everything! Python cares about Types(and so you should!)\n",
        "Python is case-sensitive.\n",
        "\n",
        "Data-Type\n",
        "  - int\n",
        "  - str\n",
        "  - float\n",
        "\n",
        "- Type-Casting: It is a way to convert one tyoe to another\n",
        "  e.g. \n",
        "    x = \"10\"\n",
        "    y = int(x) ** 2\n",
        "\n",
        "- Errors:\n",
        "  - TypeError\n",
        "  - ValueError\n",
        "  - NameError\n",
        "\n",
        "- Funtions:\n",
        "  - print()\n",
        "  - str(), int(), float()\n",
        "  - type()\n",
        "'''"
      ],
      "metadata": {
        "id": "MvW5LgGcl8Gn"
      },
      "execution_count": null,
      "outputs": []
    },
    {
      "cell_type": "markdown",
      "source": [
        "# Exercises"
      ],
      "metadata": {
        "id": "t2PaHl-dmSj2"
      }
    },
    {
      "cell_type": "code",
      "source": [
        "# Compute the number of seconds in a decade\n",
        "seconds_in_a_decade = <ANSWER_HERE>"
      ],
      "metadata": {
        "id": "dSKdsrEMmUbf"
      },
      "execution_count": null,
      "outputs": []
    },
    {
      "cell_type": "code",
      "source": [
        "X = 10 # This is integer X\n",
        "X = \"Hello Exam\" # This is String X\n",
        "\n",
        "# Check the Type of a variable, which function to use?\n",
        "<ANSWER_HERE>"
      ],
      "metadata": {
        "id": "DlVV8BeWmYbq"
      },
      "execution_count": null,
      "outputs": []
    },
    {
      "cell_type": "code",
      "source": [
        "street_num = 10\n",
        "street_name = \"Elm st.\"\n",
        "city = \"Bronx\"\n",
        "state = \"NY\"\n",
        "zip_code = 12345\n",
        "\n",
        "'''\n",
        "Create a variable called `address` that uses all below variables and \n",
        "  creates the USA mail-formatted address. Print it!\n",
        "'''\n",
        "<ANSWER_HERE>"
      ],
      "metadata": {
        "id": "xRT3mrUtmZsI"
      },
      "execution_count": null,
      "outputs": []
    },
    {
      "cell_type": "markdown",
      "source": [
        "**à la grande Exercise**"
      ],
      "metadata": {
        "id": "Vc-5wH-hmdVm"
      }
    },
    {
      "cell_type": "code",
      "source": [
        "'''\n",
        "What is the distance between two cities (San Jose & Sacramento). \n",
        "  NOTE: Reference point is a location and San Jose is located 120 miles in North. Sacramento is located 200 miles in the opposite direction.\n",
        "'''\n",
        "\n",
        "reference_point = 0\n",
        "san_jose = \"120\"\n",
        "sacramento = \"200\"\n",
        "\n",
        "distance = <ANSWER_HERE>"
      ],
      "metadata": {
        "id": "GlyBNcNImctT"
      },
      "execution_count": null,
      "outputs": []
    }
  ]
}