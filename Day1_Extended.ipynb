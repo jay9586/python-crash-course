{
  "nbformat": 4,
  "nbformat_minor": 0,
  "metadata": {
    "colab": {
      "provenance": []
    },
    "kernelspec": {
      "name": "python3",
      "display_name": "Python 3"
    },
    "language_info": {
      "name": "python"
    }
  },
  "cells": [
    {
      "cell_type": "markdown",
      "source": [
        "**Day #1 - Extended: Understanding Syntax & Beyond** <br>\n",
        "\n",
        "* Variables\n",
        "* Types & Type casting\n",
        "  * Primitive & Non-primitive types\n",
        "* Keep in mind None Type, what it is?\n",
        "* TypeError, NameError, NoneTypeError\n",
        "\n"
      ],
      "metadata": {
        "id": "Wmb_01Q4vBBM"
      }
    },
    {
      "cell_type": "markdown",
      "source": [
        "**Exercises**"
      ],
      "metadata": {
        "id": "8Q6oYe9Cv-mh"
      }
    },
    {
      "cell_type": "code",
      "source": [
        "# How to find absolute value?\n",
        "X = -10\n",
        "<ANSWER_HERE>\n",
        "\n",
        "# Generate TypeError\n",
        "<ANSWER_HERE>\n",
        "\n",
        "# Generate NameError\n",
        "<ANSWER_HERE>\n",
        "\n",
        "# Generate NoneTypeError\n",
        "<ANSWER_HERE>"
      ],
      "metadata": {
        "id": "Q-L4CPR3wtZk"
      },
      "execution_count": null,
      "outputs": []
    },
    {
      "cell_type": "markdown",
      "source": [
        "**à la grande Exercise**"
      ],
      "metadata": {
        "id": "tM28bABzw79p"
      }
    },
    {
      "cell_type": "code",
      "source": [
        "'''\n",
        "Given the lengths of Yanay's cats Hummus, Gatkes, and Zeepty, write an expression that computes the smallest difference between any of the three lengths. \n",
        "Your expression shouldn't have any numbers in it, only function calls and the names hummus, gatkes, and zeepty. \n",
        "Give the value of your expression the name min_length_difference.\n",
        "\n",
        "Hint:\n",
        "  x = 10\n",
        "  y = 12\n",
        "  z = 13\n",
        "\n",
        "  maximum = max(x, y, z)\n",
        "'''\n",
        "\n",
        "# The three cats' lengths, in meters:\n",
        "hummus = 24.5\n",
        "gatkes = 19.7\n",
        "zeepty = 15.8\n",
        "             \n",
        "'''\n",
        "We'd like to look at all 3 pairs of lengths, compute the absolute difference between each pair, \n",
        "  and then find the smallest of those 3 absolute differences.  \n",
        "# This is left to you!\n",
        "'''\n",
        "min_length_difference = <ANSWER_HERE>\n"
      ],
      "metadata": {
        "id": "I0Gr7Z9ww7bj"
      },
      "execution_count": null,
      "outputs": []
    }
  ]
}